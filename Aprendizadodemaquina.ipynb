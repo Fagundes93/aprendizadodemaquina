{
  "nbformat": 4,
  "nbformat_minor": 0,
  "metadata": {
    "colab": {
      "name": "Aprendizadodemaquina.ipynb",
      "provenance": [],
      "mount_file_id": "1PR3zpHCNBAbmqLP7Xr8ZVR7aa-aaGuE4",
      "authorship_tag": "ABX9TyOg99bgVICZdo4kiA9g06Cx",
      "include_colab_link": true
    },
    "kernelspec": {
      "name": "python3",
      "display_name": "Python 3"
    }
  },
  "cells": [
    {
      "cell_type": "markdown",
      "metadata": {
        "id": "view-in-github",
        "colab_type": "text"
      },
      "source": [
        "<a href=\"https://colab.research.google.com/github/Fagundes93/aprendizadodemaquina/blob/main/Aprendizadodemaquina.ipynb\" target=\"_parent\"><img src=\"https://colab.research.google.com/assets/colab-badge.svg\" alt=\"Open In Colab\"/></a>"
      ]
    },
    {
      "cell_type": "code",
      "metadata": {
        "id": "qUMeuIt7wH5c"
      },
      "source": [
        ""
      ],
      "execution_count": null,
      "outputs": []
    }
  ]
}